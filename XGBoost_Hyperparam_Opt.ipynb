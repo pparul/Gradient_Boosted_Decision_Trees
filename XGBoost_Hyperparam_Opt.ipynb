{
 "cells": [
  {
   "cell_type": "markdown",
   "metadata": {},
   "source": [
    "## Using different types of Gradient Boosting algorithms and their tuning"
   ]
  },
  {
   "cell_type": "code",
   "execution_count": 45,
   "metadata": {},
   "outputs": [],
   "source": [
    "%matplotlib inline\n",
    "import numpy as np\n",
    "import pandas as pd\n",
    "import matplotlib.pyplot as plt\n",
    "\n",
    "from sklearn.ensemble import GradientBoostingRegressor\n",
    "from sklearn.ensemble import RandomForestRegressor\n",
    "from xgboost import XGBRegressor\n",
    "\n",
    "from sklearn.model_selection import RandomizedSearchCV\n",
    "from sklearn.model_selection import RepeatedStratifiedKFold\n",
    "from sklearn.model_selection import GridSearchCV\n",
    "from sklearn.model_selection import KFold\n",
    "\n",
    "from sklearn.metrics import mean_squared_error\n",
    "from sklearn.model_selection import train_test_split\n",
    "from scipy.stats import loguniform\n",
    "\n",
    "from sklearn.datasets import fetch_california_housing\n",
    "from sklearn.datasets import load_diabetes"
   ]
  },
  {
   "cell_type": "code",
   "execution_count": 46,
   "metadata": {},
   "outputs": [],
   "source": [
    "housing_data = fetch_california_housing()\n",
    "responseName = housing_data.target_names\n",
    "featName = housing_data.feature_names\n",
    "selcFeatName = [\"MedInc\", \"AveOccup\", \"HouseAge\", \"AveRooms\"]\n",
    "\n",
    "X = pd.DataFrame(housing_data.data, columns=featName)\n",
    "y = housing_data.target \n",
    "\n",
    "y_f = pd.DataFrame(housing_data.target, columns=responseName)\n",
    "all_data=pd.concat([X,y_f], axis = 1)\n",
    "\n",
    "X_train, X_test, y_train, y_test = train_test_split(X, y, test_size=0.25, random_state=0)"
   ]
  },
  {
   "cell_type": "code",
   "execution_count": 57,
   "metadata": {},
   "outputs": [
    {
     "name": "stdout",
     "output_type": "stream",
     "text": [
      "0.941591449518716\n",
      "0.8322389144404666\n"
     ]
    }
   ],
   "source": [
    "clf = XGBRegressor(random_state=0)\n",
    "scoring=\"neg_root_mean_squared_error\"\n",
    "clf.fit(X_train, y_train)\n",
    "print(clf.score(X_train, y_train))\n",
    "print(clf.score(X_test, y_test))"
   ]
  },
  {
   "cell_type": "markdown",
   "metadata": {},
   "source": [
    "#### Types of hyper-param search\n",
    "- Grid Search: GridSearchCV (model, parameter grid, scoring, cv, verbose, refit)\n",
    "- Randomized Search: RandomizedSearchCV\n",
    "- Bayesian Search: \n",
    "- dont know of any way to combine early stopping with hyper-param search"
   ]
  },
  {
   "cell_type": "code",
   "execution_count": 58,
   "metadata": {},
   "outputs": [
    {
     "data": {
      "text/html": [
       "<div>\n",
       "<style scoped>\n",
       "    .dataframe tbody tr th:only-of-type {\n",
       "        vertical-align: middle;\n",
       "    }\n",
       "\n",
       "    .dataframe tbody tr th {\n",
       "        vertical-align: top;\n",
       "    }\n",
       "\n",
       "    .dataframe thead th {\n",
       "        text-align: right;\n",
       "    }\n",
       "</style>\n",
       "<table border=\"1\" class=\"dataframe\">\n",
       "  <thead>\n",
       "    <tr style=\"text-align: right;\">\n",
       "      <th></th>\n",
       "      <th>param_n_estimators</th>\n",
       "      <th>mean_test_error</th>\n",
       "      <th>std_test_error</th>\n",
       "    </tr>\n",
       "  </thead>\n",
       "  <tbody>\n",
       "    <tr>\n",
       "      <th>2</th>\n",
       "      <td>50</td>\n",
       "      <td>0.490440</td>\n",
       "      <td>0.010451</td>\n",
       "    </tr>\n",
       "    <tr>\n",
       "      <th>1</th>\n",
       "      <td>20</td>\n",
       "      <td>0.508535</td>\n",
       "      <td>0.007694</td>\n",
       "    </tr>\n",
       "    <tr>\n",
       "      <th>0</th>\n",
       "      <td>10</td>\n",
       "      <td>0.542862</td>\n",
       "      <td>0.009465</td>\n",
       "    </tr>\n",
       "  </tbody>\n",
       "</table>\n",
       "</div>"
      ],
      "text/plain": [
       "  param_n_estimators  mean_test_error  std_test_error\n",
       "2                 50         0.490440        0.010451\n",
       "1                 20         0.508535        0.007694\n",
       "0                 10         0.542862        0.009465"
      ]
     },
     "execution_count": 58,
     "metadata": {},
     "output_type": "execute_result"
    }
   ],
   "source": [
    "\n",
    "param_grid = {\n",
    "    \"n_estimators\": [10, 20, 50],\n",
    "}\n",
    "search_cv = GridSearchCV(clf, param_grid=param_grid, scoring=scoring)\n",
    "search_cv.fit(X_train, y_train)\n",
    "\n",
    "columns = [f\"param_{name}\" for name in param_grid.keys()]\n",
    "columns += [\"mean_test_error\", \"std_test_error\"]\n",
    "cv_results = pd.DataFrame(search_cv.cv_results_)\n",
    "cv_results[\"mean_test_error\"] = -cv_results[\"mean_test_score\"]\n",
    "cv_results[\"std_test_error\"] = cv_results[\"std_test_score\"]\n",
    "cv_results[columns].sort_values(by=\"mean_test_error\")"
   ]
  },
  {
   "cell_type": "markdown",
   "metadata": {},
   "source": [
    "#### Early stopping\n",
    "- Using xgboost native functions, so eval_metric uses evaluation metrics specific to XGBoost"
   ]
  },
  {
   "cell_type": "code",
   "execution_count": 62,
   "metadata": {},
   "outputs": [
    {
     "name": "stdout",
     "output_type": "stream",
     "text": [
      "[0]\tvalidation_0-rmse:1.44796\tvalidation_1-rmse:1.43538\n",
      "[1]\tvalidation_0-rmse:1.10977\tvalidation_1-rmse:1.10958\n",
      "[2]\tvalidation_0-rmse:0.88607\tvalidation_1-rmse:0.89705\n",
      "[3]\tvalidation_0-rmse:0.74083\tvalidation_1-rmse:0.76170\n",
      "[4]\tvalidation_0-rmse:0.64646\tvalidation_1-rmse:0.67791\n",
      "[5]\tvalidation_0-rmse:0.59077\tvalidation_1-rmse:0.63082\n",
      "[6]\tvalidation_0-rmse:0.55518\tvalidation_1-rmse:0.60121\n",
      "[7]\tvalidation_0-rmse:0.52860\tvalidation_1-rmse:0.57819\n",
      "[8]\tvalidation_0-rmse:0.50847\tvalidation_1-rmse:0.56259\n",
      "[9]\tvalidation_0-rmse:0.49044\tvalidation_1-rmse:0.54638\n",
      "[10]\tvalidation_0-rmse:0.47939\tvalidation_1-rmse:0.53786\n",
      "[11]\tvalidation_0-rmse:0.47372\tvalidation_1-rmse:0.53494\n",
      "[12]\tvalidation_0-rmse:0.46331\tvalidation_1-rmse:0.52576\n",
      "[13]\tvalidation_0-rmse:0.45567\tvalidation_1-rmse:0.52425\n",
      "[14]\tvalidation_0-rmse:0.44877\tvalidation_1-rmse:0.52062\n",
      "[15]\tvalidation_0-rmse:0.44211\tvalidation_1-rmse:0.51648\n",
      "[16]\tvalidation_0-rmse:0.43666\tvalidation_1-rmse:0.51524\n",
      "[17]\tvalidation_0-rmse:0.43287\tvalidation_1-rmse:0.51271\n",
      "[18]\tvalidation_0-rmse:0.42904\tvalidation_1-rmse:0.51076\n",
      "[19]\tvalidation_0-rmse:0.42547\tvalidation_1-rmse:0.50942\n",
      "[20]\tvalidation_0-rmse:0.42198\tvalidation_1-rmse:0.50695\n",
      "[21]\tvalidation_0-rmse:0.41905\tvalidation_1-rmse:0.50616\n",
      "[22]\tvalidation_0-rmse:0.41227\tvalidation_1-rmse:0.50128\n",
      "[23]\tvalidation_0-rmse:0.40761\tvalidation_1-rmse:0.50042\n",
      "[24]\tvalidation_0-rmse:0.40337\tvalidation_1-rmse:0.49836\n"
     ]
    },
    {
     "name": "stderr",
     "output_type": "stream",
     "text": [
      "/Users/parulpandey/anaconda3/lib/python3.10/site-packages/xgboost/sklearn.py:835: UserWarning: `eval_metric` in `fit` method is deprecated for better compatibility with scikit-learn, use `eval_metric` in constructor or`set_params` instead.\n",
      "  warnings.warn(\n",
      "/Users/parulpandey/anaconda3/lib/python3.10/site-packages/xgboost/sklearn.py:835: UserWarning: `early_stopping_rounds` in `fit` method is deprecated for better compatibility with scikit-learn, use `early_stopping_rounds` in constructor or`set_params` instead.\n",
      "  warnings.warn(\n"
     ]
    },
    {
     "name": "stdout",
     "output_type": "stream",
     "text": [
      "[25]\tvalidation_0-rmse:0.39865\tvalidation_1-rmse:0.49665\n",
      "[26]\tvalidation_0-rmse:0.39424\tvalidation_1-rmse:0.49469\n",
      "[27]\tvalidation_0-rmse:0.39197\tvalidation_1-rmse:0.49309\n",
      "[28]\tvalidation_0-rmse:0.39085\tvalidation_1-rmse:0.49227\n",
      "[29]\tvalidation_0-rmse:0.38746\tvalidation_1-rmse:0.49095\n",
      "[30]\tvalidation_0-rmse:0.38548\tvalidation_1-rmse:0.49061\n",
      "[31]\tvalidation_0-rmse:0.38426\tvalidation_1-rmse:0.49071\n",
      "[32]\tvalidation_0-rmse:0.37950\tvalidation_1-rmse:0.48714\n",
      "[33]\tvalidation_0-rmse:0.37641\tvalidation_1-rmse:0.48624\n",
      "[34]\tvalidation_0-rmse:0.37363\tvalidation_1-rmse:0.48511\n",
      "[35]\tvalidation_0-rmse:0.37061\tvalidation_1-rmse:0.48491\n",
      "[36]\tvalidation_0-rmse:0.36917\tvalidation_1-rmse:0.48494\n",
      "[37]\tvalidation_0-rmse:0.36748\tvalidation_1-rmse:0.48407\n",
      "[38]\tvalidation_0-rmse:0.36659\tvalidation_1-rmse:0.48430\n",
      "[39]\tvalidation_0-rmse:0.36378\tvalidation_1-rmse:0.48300\n",
      "[40]\tvalidation_0-rmse:0.36135\tvalidation_1-rmse:0.48358\n",
      "[41]\tvalidation_0-rmse:0.36015\tvalidation_1-rmse:0.48369\n",
      "[42]\tvalidation_0-rmse:0.35830\tvalidation_1-rmse:0.48379\n",
      "[43]\tvalidation_0-rmse:0.35703\tvalidation_1-rmse:0.48342\n",
      "[44]\tvalidation_0-rmse:0.35491\tvalidation_1-rmse:0.48288\n",
      "[45]\tvalidation_0-rmse:0.35001\tvalidation_1-rmse:0.48010\n",
      "[46]\tvalidation_0-rmse:0.34845\tvalidation_1-rmse:0.48024\n",
      "[47]\tvalidation_0-rmse:0.34753\tvalidation_1-rmse:0.48028\n",
      "[48]\tvalidation_0-rmse:0.34635\tvalidation_1-rmse:0.48014\n",
      "[49]\tvalidation_0-rmse:0.34470\tvalidation_1-rmse:0.48023\n",
      "[50]\tvalidation_0-rmse:0.34388\tvalidation_1-rmse:0.48040\n",
      "[51]\tvalidation_0-rmse:0.34209\tvalidation_1-rmse:0.48084\n",
      "[52]\tvalidation_0-rmse:0.33992\tvalidation_1-rmse:0.48051\n",
      "[53]\tvalidation_0-rmse:0.33606\tvalidation_1-rmse:0.47851\n",
      "[54]\tvalidation_0-rmse:0.33470\tvalidation_1-rmse:0.47821\n",
      "[55]\tvalidation_0-rmse:0.33364\tvalidation_1-rmse:0.47824\n",
      "[56]\tvalidation_0-rmse:0.33202\tvalidation_1-rmse:0.47818\n",
      "[57]\tvalidation_0-rmse:0.32981\tvalidation_1-rmse:0.47687\n",
      "[58]\tvalidation_0-rmse:0.32880\tvalidation_1-rmse:0.47689\n",
      "[59]\tvalidation_0-rmse:0.32789\tvalidation_1-rmse:0.47683\n",
      "[60]\tvalidation_0-rmse:0.32567\tvalidation_1-rmse:0.47533\n",
      "[61]\tvalidation_0-rmse:0.32403\tvalidation_1-rmse:0.47508\n",
      "[62]\tvalidation_0-rmse:0.32223\tvalidation_1-rmse:0.47528\n",
      "[63]\tvalidation_0-rmse:0.32176\tvalidation_1-rmse:0.47535\n",
      "[64]\tvalidation_0-rmse:0.32003\tvalidation_1-rmse:0.47599\n",
      "[65]\tvalidation_0-rmse:0.31850\tvalidation_1-rmse:0.47595\n",
      "[66]\tvalidation_0-rmse:0.31661\tvalidation_1-rmse:0.47510\n",
      "[67]\tvalidation_0-rmse:0.31362\tvalidation_1-rmse:0.47377\n",
      "[68]\tvalidation_0-rmse:0.31126\tvalidation_1-rmse:0.47386\n",
      "[69]\tvalidation_0-rmse:0.31046\tvalidation_1-rmse:0.47368\n",
      "[70]\tvalidation_0-rmse:0.30918\tvalidation_1-rmse:0.47356\n",
      "[71]\tvalidation_0-rmse:0.30843\tvalidation_1-rmse:0.47341\n",
      "[72]\tvalidation_0-rmse:0.30716\tvalidation_1-rmse:0.47296\n",
      "[73]\tvalidation_0-rmse:0.30560\tvalidation_1-rmse:0.47287\n",
      "[74]\tvalidation_0-rmse:0.30476\tvalidation_1-rmse:0.47291\n",
      "[75]\tvalidation_0-rmse:0.30365\tvalidation_1-rmse:0.47279\n",
      "[76]\tvalidation_0-rmse:0.30260\tvalidation_1-rmse:0.47298\n",
      "[77]\tvalidation_0-rmse:0.30205\tvalidation_1-rmse:0.47275\n",
      "[78]\tvalidation_0-rmse:0.30102\tvalidation_1-rmse:0.47277\n",
      "[79]\tvalidation_0-rmse:0.29858\tvalidation_1-rmse:0.47209\n",
      "[80]\tvalidation_0-rmse:0.29802\tvalidation_1-rmse:0.47220\n",
      "[81]\tvalidation_0-rmse:0.29718\tvalidation_1-rmse:0.47238\n",
      "[82]\tvalidation_0-rmse:0.29534\tvalidation_1-rmse:0.47210\n",
      "[83]\tvalidation_0-rmse:0.29429\tvalidation_1-rmse:0.47206\n",
      "[84]\tvalidation_0-rmse:0.29312\tvalidation_1-rmse:0.47216\n",
      "[85]\tvalidation_0-rmse:0.29248\tvalidation_1-rmse:0.47207\n",
      "[86]\tvalidation_0-rmse:0.29016\tvalidation_1-rmse:0.47108\n",
      "[87]\tvalidation_0-rmse:0.28864\tvalidation_1-rmse:0.47112\n",
      "[88]\tvalidation_0-rmse:0.28817\tvalidation_1-rmse:0.47126\n",
      "[89]\tvalidation_0-rmse:0.28745\tvalidation_1-rmse:0.47120\n",
      "[90]\tvalidation_0-rmse:0.28689\tvalidation_1-rmse:0.47102\n",
      "[91]\tvalidation_0-rmse:0.28583\tvalidation_1-rmse:0.47087\n",
      "[92]\tvalidation_0-rmse:0.28525\tvalidation_1-rmse:0.47076\n",
      "[93]\tvalidation_0-rmse:0.28423\tvalidation_1-rmse:0.47100\n",
      "[94]\tvalidation_0-rmse:0.28375\tvalidation_1-rmse:0.47116\n",
      "[95]\tvalidation_0-rmse:0.28312\tvalidation_1-rmse:0.47101\n",
      "[96]\tvalidation_0-rmse:0.28244\tvalidation_1-rmse:0.47124\n",
      "[97]\tvalidation_0-rmse:0.28123\tvalidation_1-rmse:0.47146\n",
      "[98]\tvalidation_0-rmse:0.28016\tvalidation_1-rmse:0.47137\n",
      "[99]\tvalidation_0-rmse:0.27920\tvalidation_1-rmse:0.47091\n"
     ]
    },
    {
     "data": {
      "text/plain": [
       "<matplotlib.legend.Legend at 0x17e687d90>"
      ]
     },
     "execution_count": 62,
     "metadata": {},
     "output_type": "execute_result"
    },
    {
     "data": {
      "image/png": "[encoded data removed]",
      "text/plain": [
       "<Figure size 640x480 with 1 Axes>"
      ]
     },
     "metadata": {},
     "output_type": "display_data"
    }
   ],
   "source": [
    "clf = XGBRegressor()\n",
    "eval_test = [(X_train, y_train), (X_test, y_test)]\n",
    "clf.fit(X_train, y_train, eval_set=eval_test, eval_metric=['rmse'], early_stopping_rounds=10, verbose=True)\n",
    "results = clf.evals_result()\n",
    "epochs = len(results['validation_0']['rmse'])\n",
    "fig, ax = plt.subplots()\n",
    "ax.plot(range(0, epochs), results['validation_0']['rmse'], label='Train')\n",
    "ax.plot(range(0, epochs), results['validation_1']['rmse'], label='Test')\n",
    "ax.legend()"
   ]
  },
  {
   "cell_type": "markdown",
   "metadata": {},
   "source": [
    "#### References\n",
    "\n",
    "- https://inria.github.io/scikit-learn-mooc/python_scripts/ensemble_hyperparameters.html"
   ]
  },
  {
   "cell_type": "code",
   "execution_count": null,
   "metadata": {},
   "outputs": [],
   "source": []
  }
 ],
 "metadata": {
  "kernelspec": {
   "display_name": "Python 3 (ipykernel)",
   "language": "python",
   "name": "python3"
  },
  "language_info": {
   "codemirror_mode": {
    "name": "ipython",
    "version": 3
   },
   "file_extension": ".py",
   "mimetype": "text/x-python",
   "name": "python",
   "nbconvert_exporter": "python",
   "pygments_lexer": "ipython3",
   "version": "3.10.9"
  }
 },
 "nbformat": 4,
 "nbformat_minor": 4
}
